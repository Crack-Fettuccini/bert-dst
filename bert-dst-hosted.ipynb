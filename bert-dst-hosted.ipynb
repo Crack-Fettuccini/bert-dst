{
 "cells": [
  {
   "cell_type": "code",
   "execution_count": 1,
   "id": "794012f4",
   "metadata": {
    "_cell_guid": "b1076dfc-b9ad-4769-8c92-a6c4dae69d19",
    "_uuid": "8f2839f25d086af736a60e9eeb907d3b93b6e0e5",
    "execution": {
     "iopub.execute_input": "2023-07-06T15:03:04.963829Z",
     "iopub.status.busy": "2023-07-06T15:03:04.963521Z",
     "iopub.status.idle": "2023-07-06T15:03:06.171826Z",
     "shell.execute_reply": "2023-07-06T15:03:06.170976Z"
    },
    "papermill": {
     "duration": 1.217748,
     "end_time": "2023-07-06T15:03:06.175261",
     "exception": false,
     "start_time": "2023-07-06T15:03:04.957513",
     "status": "completed"
    },
    "tags": []
   },
   "outputs": [
    {
     "name": "stdout",
     "output_type": "stream",
     "text": [
      "/kaggle/input/bert-dst-actual/bert-dst-master/main.py\n",
      "/kaggle/input/bert-dst-actual/bert-dst-master/README.md\n",
      "/kaggle/input/bert-dst-actual/bert-dst-master/train.sh\n",
      "/kaggle/input/bert-dst-actual/bert-dst-master/eval_pred.sh\n",
      "/kaggle/input/bert-dst-actual/bert-dst-master/dataset_sim.py\n",
      "/kaggle/input/bert-dst-actual/bert-dst-master/requirements.txt\n",
      "/kaggle/input/bert-dst-actual/bert-dst-master/metric_bert_dst.py\n",
      "/kaggle/input/bert-dst-actual/bert-dst-master/util.py\n",
      "/kaggle/input/bert-dst-actual/bert-dst-master/dataset_dstc2.py\n",
      "/kaggle/input/bert-dst-actual/bert-dst-master/bert/CONTRIBUTING.md\n",
      "/kaggle/input/bert-dst-actual/bert-dst-master/bert/optimization_test.py\n",
      "/kaggle/input/bert-dst-actual/bert-dst-master/bert/predicting_movie_reviews_with_bert_on_tf_hub.ipynb\n",
      "/kaggle/input/bert-dst-actual/bert-dst-master/bert/modeling.py\n",
      "/kaggle/input/bert-dst-actual/bert-dst-master/bert/LICENSE\n",
      "/kaggle/input/bert-dst-actual/bert-dst-master/bert/tokenization.py\n",
      "/kaggle/input/bert-dst-actual/bert-dst-master/bert/README.md\n",
      "/kaggle/input/bert-dst-actual/bert-dst-master/bert/run_squad.py\n",
      "/kaggle/input/bert-dst-actual/bert-dst-master/bert/tokenization_test.py\n",
      "/kaggle/input/bert-dst-actual/bert-dst-master/bert/create_pretraining_data.py\n",
      "/kaggle/input/bert-dst-actual/bert-dst-master/bert/run_classifier.py\n",
      "/kaggle/input/bert-dst-actual/bert-dst-master/bert/extract_features.py\n",
      "/kaggle/input/bert-dst-actual/bert-dst-master/bert/run_classifier_with_tfhub.py\n",
      "/kaggle/input/bert-dst-actual/bert-dst-master/bert/requirements.txt\n",
      "/kaggle/input/bert-dst-actual/bert-dst-master/bert/optimization.py\n",
      "/kaggle/input/bert-dst-actual/bert-dst-master/bert/sample_text.txt\n",
      "/kaggle/input/bert-dst-actual/bert-dst-master/bert/multilingual.md\n",
      "/kaggle/input/bert-dst-actual/bert-dst-master/bert/__init__.py\n",
      "/kaggle/input/bert-dst-actual/bert-dst-master/bert/run_pretraining.py\n",
      "/kaggle/input/bert-dst-actual/bert-dst-master/bert/modeling_test.py\n",
      "/kaggle/input/bert-dst-actual/bert-dst-master/storage/woz_2.0/woz_2.0/woz_validate_it_en.json\n",
      "/kaggle/input/bert-dst-actual/bert-dst-master/storage/woz_2.0/woz_2.0/woz_validate_it.json\n",
      "/kaggle/input/bert-dst-actual/bert-dst-master/storage/woz_2.0/woz_2.0/woz_train_de_en.json\n",
      "/kaggle/input/bert-dst-actual/bert-dst-master/storage/woz_2.0/woz_2.0/woz_test_en.json\n",
      "/kaggle/input/bert-dst-actual/bert-dst-master/storage/woz_2.0/woz_2.0/woz_train_en.json\n",
      "/kaggle/input/bert-dst-actual/bert-dst-master/storage/woz_2.0/woz_2.0/woz_train_it_en.json\n",
      "/kaggle/input/bert-dst-actual/bert-dst-master/storage/woz_2.0/woz_2.0/woz_test_it_en.json\n",
      "/kaggle/input/bert-dst-actual/bert-dst-master/storage/woz_2.0/woz_2.0/woz_validate_de.json\n",
      "/kaggle/input/bert-dst-actual/bert-dst-master/storage/woz_2.0/woz_2.0/woz_test_de_en.json\n",
      "/kaggle/input/bert-dst-actual/bert-dst-master/storage/woz_2.0/woz_2.0/woz_test_de.json\n",
      "/kaggle/input/bert-dst-actual/bert-dst-master/storage/woz_2.0/woz_2.0/woz_validate_en.json\n",
      "/kaggle/input/bert-dst-actual/bert-dst-master/storage/woz_2.0/woz_2.0/woz_validate_de_en.json\n",
      "/kaggle/input/bert-dst-actual/bert-dst-master/storage/woz_2.0/woz_2.0/woz_train_it.json\n",
      "/kaggle/input/bert-dst-actual/bert-dst-master/storage/woz_2.0/woz_2.0/woz_train_de.json\n",
      "/kaggle/input/bert-dst-actual/bert-dst-master/storage/woz_2.0/woz_2.0/woz_test_it.json\n",
      "/kaggle/input/bert-dst-actual/bert-dst-master/storage/dstc2-clean/dstc2-clean/dstc2_train_en.json\n",
      "/kaggle/input/bert-dst-actual/bert-dst-master/storage/dstc2-clean/dstc2-clean/dstc2_test_en.json\n",
      "/kaggle/input/bert-dst-actual/bert-dst-master/storage/dstc2-clean/dstc2-clean/dstc2_validate_en.json\n",
      "/kaggle/input/bert-dst-actual/bert-dst-master/storage/dstc2/dstc2_train_en.json\n",
      "/kaggle/input/bert-dst-actual/bert-dst-master/storage/dstc2/dstc2_test_en.json\n",
      "/kaggle/input/bert-dst-actual/bert-dst-master/storage/dstc2/dstc2_validate_en.json\n",
      "/kaggle/input/bert-dst-actual/bert-dst-master/uncased_L-12_H-768_A-12/bert_model.ckpt.index\n",
      "/kaggle/input/bert-dst-actual/bert-dst-master/uncased_L-12_H-768_A-12/bert_config.json\n",
      "/kaggle/input/bert-dst-actual/bert-dst-master/uncased_L-12_H-768_A-12/vocab.txt\n",
      "/kaggle/input/bert-dst-actual/bert-dst-master/uncased_L-12_H-768_A-12/bert_model.ckpt.data-00000-of-00001\n"
     ]
    }
   ],
   "source": [
    "# This Python 3 environment comes with many helpful analytics libraries installed\n",
    "# It is defined by the kaggle/python Docker image: https://github.com/kaggle/docker-python\n",
    "# For example, here's several helpful packages to load\n",
    "\n",
    "import numpy as np # linear algebra\n",
    "import pandas as pd # data processing, CSV file I/O (e.g. pd.read_csv)\n",
    "\n",
    "# Input data files are available in the read-only \"../input/\" directory\n",
    "# For example, running this (by clicking run or pressing Shift+Enter) will list all files under the input directory\n",
    "\n",
    "import os\n",
    "for dirname, _, filenames in os.walk('/kaggle/input'):\n",
    "    for filename in filenames:\n",
    "        print(os.path.join(dirname, filename))\n",
    "\n",
    "# You can write up to 20GB to the current directory (/kaggle/working/) that gets preserved as output when you create a version using \"Save & Run All\" \n",
    "# You can also write temporary files to /kaggle/temp/, but they won't be saved outside of the current session"
   ]
  },
  {
   "cell_type": "code",
   "execution_count": 2,
   "id": "c4ed744b",
   "metadata": {
    "execution": {
     "iopub.execute_input": "2023-07-06T15:03:06.185658Z",
     "iopub.status.busy": "2023-07-06T15:03:06.185256Z",
     "iopub.status.idle": "2023-07-06T15:03:16.417059Z",
     "shell.execute_reply": "2023-07-06T15:03:16.416126Z"
    },
    "papermill": {
     "duration": 10.239787,
     "end_time": "2023-07-06T15:03:16.419465",
     "exception": false,
     "start_time": "2023-07-06T15:03:06.179678",
     "status": "completed"
    },
    "tags": []
   },
   "outputs": [
    {
     "name": "stdout",
     "output_type": "stream",
     "text": [
      "bash: Anaconda-latest-Linux-x86_64.sh: No such file or directory\r\n",
      "/bin/sh: 1: conda: not found\r\n",
      "/bin/sh: 1: mamba: not found\r\n",
      "/bin/sh: 1: source: not found\r\n",
      "/bin/sh: 1: sudo: not found\r\n",
      "/bin/sh: 1: sudo: not found\r\n",
      "/bin/sh: 1: sudo: not found\r\n",
      "/bin/sh: 1: sudo: not found\r\n",
      "/bin/sh: 1: sudo: not found\r\n",
      "/bin/sh: 1: sudo: not found\r\n"
     ]
    }
   ],
   "source": [
    "!bash Anaconda-latest-Linux-x86_64.sh\n",
    "\n",
    "!conda install -c conda-forge mamba\n",
    "\n",
    "!mamba create -n py311 -y\n",
    "!source /opt/conda/bin/activate py311 && mamba install python=3.7 jupyter mamba -y\n",
    "\n",
    "!sudo rm /opt/conda/bin/python3\n",
    "!sudo ln -sf /opt/conda/envs/py311/bin/python3 /opt/conda/bin/python3\n",
    "!sudo rm /opt/conda/bin/python3.10\n",
    "!sudo ln -sf /opt/conda/envs/py311/bin/python3 /opt/conda/bin/python3.10\n",
    "!sudo rm /opt/conda/bin/python\n",
    "!sudo ln -sf /opt/conda/envs/py311/bin/python3 /opt/conda/bin/python"
   ]
  },
  {
   "cell_type": "code",
   "execution_count": 3,
   "id": "17ab5784",
   "metadata": {
    "execution": {
     "iopub.execute_input": "2023-07-06T15:03:16.430977Z",
     "iopub.status.busy": "2023-07-06T15:03:16.430679Z",
     "iopub.status.idle": "2023-07-06T15:03:16.443592Z",
     "shell.execute_reply": "2023-07-06T15:03:16.442877Z"
    },
    "papermill": {
     "duration": 0.021331,
     "end_time": "2023-07-06T15:03:16.445735",
     "exception": false,
     "start_time": "2023-07-06T15:03:16.424404",
     "status": "completed"
    },
    "tags": []
   },
   "outputs": [
    {
     "name": "stdout",
     "output_type": "stream",
     "text": [
      "/kaggle/input/bert-dst-actual/bert-dst-master/main.py\n",
      "/kaggle/input/bert-dst-actual/bert-dst-master/README.md\n",
      "/kaggle/input/bert-dst-actual/bert-dst-master/train.sh\n",
      "/kaggle/input/bert-dst-actual/bert-dst-master/eval_pred.sh\n",
      "/kaggle/input/bert-dst-actual/bert-dst-master/dataset_sim.py\n",
      "/kaggle/input/bert-dst-actual/bert-dst-master/requirements.txt\n",
      "/kaggle/input/bert-dst-actual/bert-dst-master/metric_bert_dst.py\n",
      "/kaggle/input/bert-dst-actual/bert-dst-master/util.py\n",
      "/kaggle/input/bert-dst-actual/bert-dst-master/dataset_dstc2.py\n",
      "/kaggle/input/bert-dst-actual/bert-dst-master/bert/CONTRIBUTING.md\n",
      "/kaggle/input/bert-dst-actual/bert-dst-master/bert/optimization_test.py\n",
      "/kaggle/input/bert-dst-actual/bert-dst-master/bert/predicting_movie_reviews_with_bert_on_tf_hub.ipynb\n",
      "/kaggle/input/bert-dst-actual/bert-dst-master/bert/modeling.py\n",
      "/kaggle/input/bert-dst-actual/bert-dst-master/bert/LICENSE\n",
      "/kaggle/input/bert-dst-actual/bert-dst-master/bert/tokenization.py\n",
      "/kaggle/input/bert-dst-actual/bert-dst-master/bert/README.md\n",
      "/kaggle/input/bert-dst-actual/bert-dst-master/bert/run_squad.py\n",
      "/kaggle/input/bert-dst-actual/bert-dst-master/bert/tokenization_test.py\n",
      "/kaggle/input/bert-dst-actual/bert-dst-master/bert/create_pretraining_data.py\n",
      "/kaggle/input/bert-dst-actual/bert-dst-master/bert/run_classifier.py\n",
      "/kaggle/input/bert-dst-actual/bert-dst-master/bert/extract_features.py\n",
      "/kaggle/input/bert-dst-actual/bert-dst-master/bert/run_classifier_with_tfhub.py\n",
      "/kaggle/input/bert-dst-actual/bert-dst-master/bert/requirements.txt\n",
      "/kaggle/input/bert-dst-actual/bert-dst-master/bert/optimization.py\n",
      "/kaggle/input/bert-dst-actual/bert-dst-master/bert/sample_text.txt\n",
      "/kaggle/input/bert-dst-actual/bert-dst-master/bert/multilingual.md\n",
      "/kaggle/input/bert-dst-actual/bert-dst-master/bert/__init__.py\n",
      "/kaggle/input/bert-dst-actual/bert-dst-master/bert/run_pretraining.py\n",
      "/kaggle/input/bert-dst-actual/bert-dst-master/bert/modeling_test.py\n",
      "/kaggle/input/bert-dst-actual/bert-dst-master/storage/woz_2.0/woz_2.0/woz_validate_it_en.json\n",
      "/kaggle/input/bert-dst-actual/bert-dst-master/storage/woz_2.0/woz_2.0/woz_validate_it.json\n",
      "/kaggle/input/bert-dst-actual/bert-dst-master/storage/woz_2.0/woz_2.0/woz_train_de_en.json\n",
      "/kaggle/input/bert-dst-actual/bert-dst-master/storage/woz_2.0/woz_2.0/woz_test_en.json\n",
      "/kaggle/input/bert-dst-actual/bert-dst-master/storage/woz_2.0/woz_2.0/woz_train_en.json\n",
      "/kaggle/input/bert-dst-actual/bert-dst-master/storage/woz_2.0/woz_2.0/woz_train_it_en.json\n",
      "/kaggle/input/bert-dst-actual/bert-dst-master/storage/woz_2.0/woz_2.0/woz_test_it_en.json\n",
      "/kaggle/input/bert-dst-actual/bert-dst-master/storage/woz_2.0/woz_2.0/woz_validate_de.json\n",
      "/kaggle/input/bert-dst-actual/bert-dst-master/storage/woz_2.0/woz_2.0/woz_test_de_en.json\n",
      "/kaggle/input/bert-dst-actual/bert-dst-master/storage/woz_2.0/woz_2.0/woz_test_de.json\n",
      "/kaggle/input/bert-dst-actual/bert-dst-master/storage/woz_2.0/woz_2.0/woz_validate_en.json\n",
      "/kaggle/input/bert-dst-actual/bert-dst-master/storage/woz_2.0/woz_2.0/woz_validate_de_en.json\n",
      "/kaggle/input/bert-dst-actual/bert-dst-master/storage/woz_2.0/woz_2.0/woz_train_it.json\n",
      "/kaggle/input/bert-dst-actual/bert-dst-master/storage/woz_2.0/woz_2.0/woz_train_de.json\n",
      "/kaggle/input/bert-dst-actual/bert-dst-master/storage/woz_2.0/woz_2.0/woz_test_it.json\n",
      "/kaggle/input/bert-dst-actual/bert-dst-master/storage/dstc2-clean/dstc2-clean/dstc2_train_en.json\n",
      "/kaggle/input/bert-dst-actual/bert-dst-master/storage/dstc2-clean/dstc2-clean/dstc2_test_en.json\n",
      "/kaggle/input/bert-dst-actual/bert-dst-master/storage/dstc2-clean/dstc2-clean/dstc2_validate_en.json\n",
      "/kaggle/input/bert-dst-actual/bert-dst-master/storage/dstc2/dstc2_train_en.json\n",
      "/kaggle/input/bert-dst-actual/bert-dst-master/storage/dstc2/dstc2_test_en.json\n",
      "/kaggle/input/bert-dst-actual/bert-dst-master/storage/dstc2/dstc2_validate_en.json\n",
      "/kaggle/input/bert-dst-actual/bert-dst-master/uncased_L-12_H-768_A-12/bert_model.ckpt.index\n",
      "/kaggle/input/bert-dst-actual/bert-dst-master/uncased_L-12_H-768_A-12/bert_config.json\n",
      "/kaggle/input/bert-dst-actual/bert-dst-master/uncased_L-12_H-768_A-12/vocab.txt\n",
      "/kaggle/input/bert-dst-actual/bert-dst-master/uncased_L-12_H-768_A-12/bert_model.ckpt.data-00000-of-00001\n"
     ]
    }
   ],
   "source": [
    "# This Python 3 environment comes with many helpful analytics libraries installed\n",
    "# It is defined by the kaggle/python Docker image: https://github.com/kaggle/docker-python\n",
    "# For example, here's several helpful packages to load\n",
    "\n",
    "import numpy as np # linear algebra\n",
    "import pandas as pd # data processing, CSV file I/O (e.g. pd.read_csv)\n",
    "\n",
    "# Input data files are available in the read-only \"../input/\" directory\n",
    "# For example, running this (by clicking run or pressing Shift+Enter) will list all files under the input directory\n",
    "\n",
    "import os\n",
    "for dirname, _, filenames in os.walk('/kaggle/input'):\n",
    "    for filename in filenames:\n",
    "        print(os.path.join(dirname, filename))\n",
    "\n",
    "# You can write up to 20GB to the current directory (/kaggle/working/) that gets preserved as output when you create a version using \"Save & Run All\" \n",
    "# You can also write temporary files to /kaggle/temp/, but they won't be saved outside of the current session"
   ]
  },
  {
   "cell_type": "code",
   "execution_count": 4,
   "id": "146f1aba",
   "metadata": {
    "execution": {
     "iopub.execute_input": "2023-07-06T15:03:16.456387Z",
     "iopub.status.busy": "2023-07-06T15:03:16.456118Z",
     "iopub.status.idle": "2023-07-06T15:03:17.458211Z",
     "shell.execute_reply": "2023-07-06T15:03:17.457335Z"
    },
    "papermill": {
     "duration": 1.010128,
     "end_time": "2023-07-06T15:03:17.460484",
     "exception": false,
     "start_time": "2023-07-06T15:03:16.450356",
     "status": "completed"
    },
    "tags": []
   },
   "outputs": [
    {
     "name": "stdout",
     "output_type": "stream",
     "text": [
      "Python 3.8.17\r\n"
     ]
    }
   ],
   "source": [
    "!python3 --version\n",
    "#!ls ../input/bert-dst-actual/bert-dst-master\n",
    "#!cd ../input/bert-dst-actual/bert-dst-master\n",
    "#!ls ."
   ]
  },
  {
   "cell_type": "code",
   "execution_count": 5,
   "id": "bbb73a00",
   "metadata": {
    "execution": {
     "iopub.execute_input": "2023-07-06T15:03:17.472608Z",
     "iopub.status.busy": "2023-07-06T15:03:17.471918Z",
     "iopub.status.idle": "2023-07-06T15:03:18.486357Z",
     "shell.execute_reply": "2023-07-06T15:03:18.485150Z"
    },
    "papermill": {
     "duration": 1.023171,
     "end_time": "2023-07-06T15:03:18.488946",
     "exception": false,
     "start_time": "2023-07-06T15:03:17.465775",
     "status": "completed"
    },
    "tags": []
   },
   "outputs": [
    {
     "name": "stdout",
     "output_type": "stream",
     "text": [
      "bert-dst-master\r\n"
     ]
    }
   ],
   "source": [
    "!ls ../input/bert-dst-actual"
   ]
  },
  {
   "cell_type": "code",
   "execution_count": null,
   "id": "6f6b3e53",
   "metadata": {
    "papermill": {
     "duration": 0.005541,
     "end_time": "2023-07-06T15:03:18.500385",
     "exception": false,
     "start_time": "2023-07-06T15:03:18.494844",
     "status": "completed"
    },
    "tags": []
   },
   "outputs": [],
   "source": []
  },
  {
   "cell_type": "code",
   "execution_count": 6,
   "id": "c5f1be04",
   "metadata": {
    "execution": {
     "iopub.execute_input": "2023-07-06T15:03:18.513769Z",
     "iopub.status.busy": "2023-07-06T15:03:18.513008Z",
     "iopub.status.idle": "2023-07-06T15:03:22.574303Z",
     "shell.execute_reply": "2023-07-06T15:03:22.573446Z"
    },
    "papermill": {
     "duration": 4.070681,
     "end_time": "2023-07-06T15:03:22.576647",
     "exception": false,
     "start_time": "2023-07-06T15:03:18.505966",
     "status": "completed"
    },
    "tags": []
   },
   "outputs": [
    {
     "data": {
      "text/plain": [
       "['temp/bert/CONTRIBUTING.md',\n",
       " 'temp/bert/optimization_test.py',\n",
       " 'temp/bert/predicting_movie_reviews_with_bert_on_tf_hub.ipynb',\n",
       " 'temp/bert/modeling.py',\n",
       " 'temp/bert/LICENSE',\n",
       " 'temp/bert/tokenization.py',\n",
       " 'temp/bert/README.md',\n",
       " 'temp/bert/run_squad.py',\n",
       " 'temp/bert/tokenization_test.py',\n",
       " 'temp/bert/create_pretraining_data.py',\n",
       " 'temp/bert/run_classifier.py',\n",
       " 'temp/bert/extract_features.py',\n",
       " 'temp/bert/run_classifier_with_tfhub.py',\n",
       " 'temp/bert/requirements.txt',\n",
       " 'temp/bert/optimization.py',\n",
       " 'temp/bert/sample_text.txt',\n",
       " 'temp/bert/multilingual.md',\n",
       " 'temp/bert/__init__.py',\n",
       " 'temp/bert/run_pretraining.py',\n",
       " 'temp/bert/modeling_test.py',\n",
       " 'temp/main.py',\n",
       " 'temp/README.md',\n",
       " 'temp/storage/woz_2.0/woz_2.0/woz_validate_it_en.json',\n",
       " 'temp/storage/woz_2.0/woz_2.0/woz_validate_it.json',\n",
       " 'temp/storage/woz_2.0/woz_2.0/woz_train_de_en.json',\n",
       " 'temp/storage/woz_2.0/woz_2.0/woz_test_en.json',\n",
       " 'temp/storage/woz_2.0/woz_2.0/woz_train_en.json',\n",
       " 'temp/storage/woz_2.0/woz_2.0/woz_train_it_en.json',\n",
       " 'temp/storage/woz_2.0/woz_2.0/woz_test_it_en.json',\n",
       " 'temp/storage/woz_2.0/woz_2.0/woz_validate_de.json',\n",
       " 'temp/storage/woz_2.0/woz_2.0/woz_test_de_en.json',\n",
       " 'temp/storage/woz_2.0/woz_2.0/woz_test_de.json',\n",
       " 'temp/storage/woz_2.0/woz_2.0/woz_validate_en.json',\n",
       " 'temp/storage/woz_2.0/woz_2.0/woz_validate_de_en.json',\n",
       " 'temp/storage/woz_2.0/woz_2.0/woz_train_it.json',\n",
       " 'temp/storage/woz_2.0/woz_2.0/woz_train_de.json',\n",
       " 'temp/storage/woz_2.0/woz_2.0/woz_test_it.json',\n",
       " 'temp/storage/dstc2-clean/dstc2-clean/dstc2_train_en.json',\n",
       " 'temp/storage/dstc2-clean/dstc2-clean/dstc2_test_en.json',\n",
       " 'temp/storage/dstc2-clean/dstc2-clean/dstc2_validate_en.json',\n",
       " 'temp/storage/dstc2/dstc2_train_en.json',\n",
       " 'temp/storage/dstc2/dstc2_test_en.json',\n",
       " 'temp/storage/dstc2/dstc2_validate_en.json',\n",
       " 'temp/train.sh',\n",
       " 'temp/eval_pred.sh',\n",
       " 'temp/dataset_sim.py',\n",
       " 'temp/requirements.txt',\n",
       " 'temp/metric_bert_dst.py',\n",
       " 'temp/util.py',\n",
       " 'temp/uncased_L-12_H-768_A-12/bert_model.ckpt.index',\n",
       " 'temp/uncased_L-12_H-768_A-12/bert_config.json',\n",
       " 'temp/uncased_L-12_H-768_A-12/vocab.txt',\n",
       " 'temp/uncased_L-12_H-768_A-12/bert_model.ckpt.data-00000-of-00001',\n",
       " 'temp/dataset_dstc2.py']"
      ]
     },
     "execution_count": 6,
     "metadata": {},
     "output_type": "execute_result"
    }
   ],
   "source": [
    "from distutils.dir_util import copy_tree\n",
    "copy_tree(\"../input/bert-dst-actual/bert-dst-master\",\"temp\")"
   ]
  },
  {
   "cell_type": "code",
   "execution_count": 7,
   "id": "690f69c3",
   "metadata": {
    "execution": {
     "iopub.execute_input": "2023-07-06T15:03:22.588798Z",
     "iopub.status.busy": "2023-07-06T15:03:22.588512Z",
     "iopub.status.idle": "2023-07-06T15:03:22.592333Z",
     "shell.execute_reply": "2023-07-06T15:03:22.591589Z"
    },
    "papermill": {
     "duration": 0.012614,
     "end_time": "2023-07-06T15:03:22.594534",
     "exception": false,
     "start_time": "2023-07-06T15:03:22.581920",
     "status": "completed"
    },
    "tags": []
   },
   "outputs": [],
   "source": [
    "import os\n",
    "os.chdir('temp')"
   ]
  },
  {
   "cell_type": "code",
   "execution_count": 8,
   "id": "32540b69",
   "metadata": {
    "execution": {
     "iopub.execute_input": "2023-07-06T15:03:22.605997Z",
     "iopub.status.busy": "2023-07-06T15:03:22.605701Z",
     "iopub.status.idle": "2023-07-06T15:03:39.698551Z",
     "shell.execute_reply": "2023-07-06T15:03:39.697364Z"
    },
    "papermill": {
     "duration": 17.101288,
     "end_time": "2023-07-06T15:03:39.701020",
     "exception": false,
     "start_time": "2023-07-06T15:03:22.599732",
     "status": "completed"
    },
    "tags": []
   },
   "outputs": [
    {
     "name": "stdout",
     "output_type": "stream",
     "text": [
      "/bin/sh: 1: source: not found\r\n",
      "Requirement already satisfied: absl-py==1.4.0 in /usr/local/lib/python3.8/site-packages (from -r requirements.txt (line 1)) (1.4.0)\r\n",
      "Collecting astor==0.8.1\r\n",
      "  Downloading astor-0.8.1-py2.py3-none-any.whl (27 kB)\r\n",
      "Collecting gast==0.5.4\r\n",
      "  Downloading gast-0.5.4-py3-none-any.whl (19 kB)\r\n",
      "Collecting grpcio==1.56.0\r\n",
      "  Downloading grpcio-1.56.0-cp38-cp38-manylinux_2_17_x86_64.manylinux2014_x86_64.whl (5.2 MB)\r\n",
      "\u001b[2K     \u001b[90m━━━━━━━━━━━━━━━━━━━━━━━━━━━━━━━━━━━━━━━━\u001b[0m \u001b[32m5.2/5.2 MB\u001b[0m \u001b[31m39.8 MB/s\u001b[0m eta \u001b[36m0:00:00\u001b[0m\r\n",
      "\u001b[?25hRequirement already satisfied: h5py==3.8.0 in /usr/local/lib/python3.8/site-packages (from -r requirements.txt (line 5)) (3.8.0)\r\n",
      "Collecting importlib-metadata==6.7.0\r\n",
      "  Downloading importlib_metadata-6.7.0-py3-none-any.whl (22 kB)\r\n",
      "Collecting Keras-Applications==1.0.8\r\n",
      "  Downloading Keras_Applications-1.0.8-py3-none-any.whl (50 kB)\r\n",
      "\u001b[2K     \u001b[90m━━━━━━━━━━━━━━━━━━━━━━━━━━━━━━━━━━━━━━━━\u001b[0m \u001b[32m50.7/50.7 kB\u001b[0m \u001b[31m4.0 MB/s\u001b[0m eta \u001b[36m0:00:00\u001b[0m\r\n",
      "\u001b[?25hCollecting Keras-Preprocessing==1.1.2\r\n",
      "  Downloading Keras_Preprocessing-1.1.2-py2.py3-none-any.whl (42 kB)\r\n",
      "\u001b[2K     \u001b[90m━━━━━━━━━━━━━━━━━━━━━━━━━━━━━━━━━━━━━━━━\u001b[0m \u001b[32m42.6/42.6 kB\u001b[0m \u001b[31m3.1 MB/s\u001b[0m eta \u001b[36m0:00:00\u001b[0m\r\n",
      "\u001b[?25hRequirement already satisfied: Markdown==3.4.3 in /usr/local/lib/python3.8/site-packages (from -r requirements.txt (line 9)) (3.4.3)\r\n",
      "Requirement already satisfied: MarkupSafe==2.1.3 in /usr/local/lib/python3.8/site-packages (from -r requirements.txt (line 10)) (2.1.3)\r\n",
      "Collecting mock==5.0.2\r\n",
      "  Downloading mock-5.0.2-py3-none-any.whl (30 kB)\r\n",
      "Collecting numpy==1.21.6\r\n",
      "  Downloading numpy-1.21.6-cp38-cp38-manylinux_2_12_x86_64.manylinux2010_x86_64.whl (15.7 MB)\r\n",
      "\u001b[2K     \u001b[90m━━━━━━━━━━━━━━━━━━━━━━━━━━━━━━━━━━━━━━━━\u001b[0m \u001b[32m15.7/15.7 MB\u001b[0m \u001b[31m63.1 MB/s\u001b[0m eta \u001b[36m0:00:00\u001b[0m\r\n",
      "\u001b[?25hCollecting protobuf==3.20.0\r\n",
      "  Downloading protobuf-3.20.0-cp38-cp38-manylinux_2_5_x86_64.manylinux1_x86_64.whl (1.0 MB)\r\n",
      "\u001b[2K     \u001b[90m━━━━━━━━━━━━━━━━━━━━━━━━━━━━━━━━━━━━━━━━\u001b[0m \u001b[32m1.0/1.0 MB\u001b[0m \u001b[31m42.9 MB/s\u001b[0m eta \u001b[36m0:00:00\u001b[0m\r\n",
      "\u001b[?25hRequirement already satisfied: six==1.16.0 in /usr/local/lib/python3.8/site-packages (from -r requirements.txt (line 14)) (1.16.0)\r\n",
      "Collecting tensorboard==1.13.1\r\n",
      "  Downloading tensorboard-1.13.1-py3-none-any.whl (3.2 MB)\r\n",
      "\u001b[2K     \u001b[90m━━━━━━━━━━━━━━━━━━━━━━━━━━━━━━━━━━━━━━━━\u001b[0m \u001b[32m3.2/3.2 MB\u001b[0m \u001b[31m52.6 MB/s\u001b[0m eta \u001b[36m0:00:00\u001b[0m\r\n",
      "\u001b[?25h\u001b[31mERROR: Ignored the following versions that require a different python version: 1.25.0 Requires-Python >=3.9; 1.25.0rc1 Requires-Python >=3.9\u001b[0m\u001b[31m\r\n",
      "\u001b[0m\u001b[31mERROR: Could not find a version that satisfies the requirement tensorflow==1.13.1 (from versions: 2.2.0, 2.2.1, 2.2.2, 2.2.3, 2.3.0, 2.3.1, 2.3.2, 2.3.3, 2.3.4, 2.4.0, 2.4.1, 2.4.2, 2.4.3, 2.4.4, 2.5.0, 2.5.1, 2.5.2, 2.5.3, 2.6.0rc0, 2.6.0rc1, 2.6.0rc2, 2.6.0, 2.6.1, 2.6.2, 2.6.3, 2.6.4, 2.6.5, 2.7.0rc0, 2.7.0rc1, 2.7.0, 2.7.1, 2.7.2, 2.7.3, 2.7.4, 2.8.0rc0, 2.8.0rc1, 2.8.0, 2.8.1, 2.8.2, 2.8.3, 2.8.4, 2.9.0rc0, 2.9.0rc1, 2.9.0rc2, 2.9.0, 2.9.1, 2.9.2, 2.9.3, 2.10.0rc0, 2.10.0rc1, 2.10.0rc2, 2.10.0rc3, 2.10.0, 2.10.1, 2.11.0rc0, 2.11.0rc1, 2.11.0rc2, 2.11.0, 2.11.1, 2.12.0rc0, 2.12.0rc1, 2.12.0, 2.12.1, 2.13.0rc0, 2.13.0rc1, 2.13.0rc2, 2.13.0)\u001b[0m\u001b[31m\r\n",
      "\u001b[0m\u001b[31mERROR: No matching distribution found for tensorflow==1.13.1\u001b[0m\u001b[31m\r\n",
      "\u001b[0m\r\n",
      "\u001b[1m[\u001b[0m\u001b[34;49mnotice\u001b[0m\u001b[1;39;49m]\u001b[0m\u001b[39;49m A new release of pip is available: \u001b[0m\u001b[31;49m23.0.1\u001b[0m\u001b[39;49m -> \u001b[0m\u001b[32;49m23.1.2\u001b[0m\r\n",
      "\u001b[1m[\u001b[0m\u001b[34;49mnotice\u001b[0m\u001b[1;39;49m]\u001b[0m\u001b[39;49m To update, run: \u001b[0m\u001b[32;49mpip install --upgrade pip\u001b[0m\r\n"
     ]
    }
   ],
   "source": [
    "!python3 -m venv \"venv2\"\n",
    "!source venv2/bin/activate\n",
    "!pip install -r requirements.txt"
   ]
  },
  {
   "cell_type": "code",
   "execution_count": 9,
   "id": "cbbc90f3",
   "metadata": {
    "execution": {
     "iopub.execute_input": "2023-07-06T15:03:39.719189Z",
     "iopub.status.busy": "2023-07-06T15:03:39.718882Z",
     "iopub.status.idle": "2023-07-06T15:03:40.722133Z",
     "shell.execute_reply": "2023-07-06T15:03:40.721237Z"
    },
    "papermill": {
     "duration": 1.014976,
     "end_time": "2023-07-06T15:03:40.724326",
     "exception": false,
     "start_time": "2023-07-06T15:03:39.709350",
     "status": "completed"
    },
    "tags": []
   },
   "outputs": [
    {
     "name": "stdout",
     "output_type": "stream",
     "text": [
      "/bin/sh: 1: source: not found\r\n"
     ]
    }
   ],
   "source": [
    "!source train.sh"
   ]
  }
 ],
 "metadata": {
  "kernelspec": {
   "display_name": "Python 3",
   "language": "python",
   "name": "python3"
  },
  "language_info": {
   "codemirror_mode": {
    "name": "ipython",
    "version": 3
   },
   "file_extension": ".py",
   "mimetype": "text/x-python",
   "name": "python",
   "nbconvert_exporter": "python",
   "pygments_lexer": "ipython3",
   "version": "3.8.17"
  },
  "papermill": {
   "default_parameters": {},
   "duration": 38.54862,
   "end_time": "2023-07-06T15:03:40.950499",
   "environment_variables": {},
   "exception": null,
   "input_path": "__notebook__.ipynb",
   "output_path": "__notebook__.ipynb",
   "parameters": {},
   "start_time": "2023-07-06T15:03:02.401879",
   "version": "2.4.0"
  }
 },
 "nbformat": 4,
 "nbformat_minor": 5
}
